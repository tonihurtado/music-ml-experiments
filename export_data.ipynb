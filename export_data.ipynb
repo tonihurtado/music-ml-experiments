{
 "cells": [
  {
   "cell_type": "code",
   "execution_count": 1,
   "metadata": {},
   "outputs": [],
   "source": [
    "import numpy as np\n",
    "import sys\n",
    "sys.path.insert(0, 'tools/bandcamp-scrapper-neo4j')\n",
    "import db_transcations as dbt\n",
    "import pandas as pd"
   ]
  },
  {
   "cell_type": "code",
   "execution_count": 10,
   "metadata": {},
   "outputs": [],
   "source": [
    "albums = dbt.getAlbumwithParams([\"dubstep\"], fans=[], skip=[])\n"
   ]
  },
  {
   "cell_type": "code",
   "execution_count": 18,
   "metadata": {},
   "outputs": [],
   "source": [
    "columns = [\"artist\",\"album\",\"genre\",\"url\"]"
   ]
  },
  {
   "cell_type": "code",
   "execution_count": 16,
   "metadata": {},
   "outputs": [],
   "source": [
    "artists = [album.band_name for album in albums]\n",
    "name = [album.name for album in albums]\n",
    "urls = [album.url for album in albums]\n",
    "genres = [[genre.name for genre in album.genres] for album in albums]"
   ]
  },
  {
   "cell_type": "code",
   "execution_count": 22,
   "metadata": {},
   "outputs": [],
   "source": [
    "df = pd.DataFrame(list(zip(artists,name,genres,urls)), columns=columns)"
   ]
  },
  {
   "cell_type": "code",
   "execution_count": 23,
   "metadata": {},
   "outputs": [
    {
     "data": {
      "text/html": [
       "<div>\n",
       "<style scoped>\n",
       "    .dataframe tbody tr th:only-of-type {\n",
       "        vertical-align: middle;\n",
       "    }\n",
       "\n",
       "    .dataframe tbody tr th {\n",
       "        vertical-align: top;\n",
       "    }\n",
       "\n",
       "    .dataframe thead th {\n",
       "        text-align: right;\n",
       "    }\n",
       "</style>\n",
       "<table border=\"1\" class=\"dataframe\">\n",
       "  <thead>\n",
       "    <tr style=\"text-align: right;\">\n",
       "      <th></th>\n",
       "      <th>artist</th>\n",
       "      <th>album</th>\n",
       "      <th>genre</th>\n",
       "      <th>url</th>\n",
       "    </tr>\n",
       "  </thead>\n",
       "  <tbody>\n",
       "    <tr>\n",
       "      <th>0</th>\n",
       "      <td>Two Shell</td>\n",
       "      <td>SoulCity E.P.</td>\n",
       "      <td>[electronic, uk-techno, dubstep, grime, ninten...</td>\n",
       "      <td>https://twoshell.bandcamp.com/album/soulcity-e-p</td>\n",
       "    </tr>\n",
       "    <tr>\n",
       "      <th>1</th>\n",
       "      <td>Vibe Emissions</td>\n",
       "      <td>Pew Pew Pew</td>\n",
       "      <td>[pittsburgh, electronic, dubstep, bass-music]</td>\n",
       "      <td>https://vibeemissions.bandcamp.com/album/pew-p...</td>\n",
       "    </tr>\n",
       "    <tr>\n",
       "      <th>2</th>\n",
       "      <td>Modern Collapse</td>\n",
       "      <td>Still Missing Your Morning Texts</td>\n",
       "      <td>[turfu, jungle, idm, hard-drum, electro, dubst...</td>\n",
       "      <td>https://comicsansrecords.bandcamp.com/track/st...</td>\n",
       "    </tr>\n",
       "    <tr>\n",
       "      <th>3</th>\n",
       "      <td>J.Sparrow</td>\n",
       "      <td>The Chase / Fullest</td>\n",
       "      <td>[united-kingdom, techno, grime, electronica, d...</td>\n",
       "      <td>https://j-sparrow.bandcamp.com/album/the-chase...</td>\n",
       "    </tr>\n",
       "    <tr>\n",
       "      <th>4</th>\n",
       "      <td>Charla Green</td>\n",
       "      <td>Outbreak</td>\n",
       "      <td>[united-kingdom, uk-funky, grime, electronic, ...</td>\n",
       "      <td>https://peachysounds.bandcamp.com/track/outbreak</td>\n",
       "    </tr>\n",
       "  </tbody>\n",
       "</table>\n",
       "</div>"
      ],
      "text/plain": [
       "            artist                             album  \\\n",
       "0        Two Shell                     SoulCity E.P.   \n",
       "1   Vibe Emissions                       Pew Pew Pew   \n",
       "2  Modern Collapse  Still Missing Your Morning Texts   \n",
       "3        J.Sparrow               The Chase / Fullest   \n",
       "4     Charla Green                          Outbreak   \n",
       "\n",
       "                                               genre  \\\n",
       "0  [electronic, uk-techno, dubstep, grime, ninten...   \n",
       "1      [pittsburgh, electronic, dubstep, bass-music]   \n",
       "2  [turfu, jungle, idm, hard-drum, electro, dubst...   \n",
       "3  [united-kingdom, techno, grime, electronica, d...   \n",
       "4  [united-kingdom, uk-funky, grime, electronic, ...   \n",
       "\n",
       "                                                 url  \n",
       "0   https://twoshell.bandcamp.com/album/soulcity-e-p  \n",
       "1  https://vibeemissions.bandcamp.com/album/pew-p...  \n",
       "2  https://comicsansrecords.bandcamp.com/track/st...  \n",
       "3  https://j-sparrow.bandcamp.com/album/the-chase...  \n",
       "4   https://peachysounds.bandcamp.com/track/outbreak  "
      ]
     },
     "execution_count": 23,
     "metadata": {},
     "output_type": "execute_result"
    }
   ],
   "source": [
    "df.head()"
   ]
  }
 ],
 "metadata": {
  "kernelspec": {
   "display_name": "Python 3.8.10 64-bit ('3.8.10')",
   "language": "python",
   "name": "python3"
  },
  "language_info": {
   "codemirror_mode": {
    "name": "ipython",
    "version": 3
   },
   "file_extension": ".py",
   "mimetype": "text/x-python",
   "name": "python",
   "nbconvert_exporter": "python",
   "pygments_lexer": "ipython3",
   "version": "3.8.10 (default, Sep 10 2022, 13:49:31) \n[Clang 13.1.6 (clang-1316.0.21.2.5)]"
  },
  "orig_nbformat": 4,
  "vscode": {
   "interpreter": {
    "hash": "ba1a314b2323234d7ba38b1b6bf739310756c698d49f3ded84505c96da501662"
   }
  }
 },
 "nbformat": 4,
 "nbformat_minor": 2
}
